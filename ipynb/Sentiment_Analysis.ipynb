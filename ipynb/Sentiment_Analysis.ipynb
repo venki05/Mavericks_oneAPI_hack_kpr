{
  "nbformat": 4,
  "nbformat_minor": 0,
  "metadata": {
    "colab": {
      "provenance": [],
      "authorship_tag": "ABX9TyPwBV5IYF+dv+kTFMaOiZJN",
      "include_colab_link": true
    },
    "kernelspec": {
      "name": "python3",
      "display_name": "Python 3"
    },
    "language_info": {
      "name": "python"
    }
  },
  "cells": [
    {
      "cell_type": "markdown",
      "metadata": {
        "id": "view-in-github",
        "colab_type": "text"
      },
      "source": [
        "<a href=\"https://colab.research.google.com/github/venki05/Mavericks_oneAPI_hack_kpr/blob/main/Sentiment_Analysis.ipynb\" target=\"_parent\"><img src=\"https://colab.research.google.com/assets/colab-badge.svg\" alt=\"Open In Colab\"/></a>"
      ]
    },
    {
      "cell_type": "code",
      "execution_count": 9,
      "metadata": {
        "colab": {
          "base_uri": "https://localhost:8080/"
        },
        "id": "-TdWywvT2V4_",
        "outputId": "e1f3d6d4-0cef-402a-abe8-6e058bdea6c7"
      },
      "outputs": [
        {
          "output_type": "stream",
          "name": "stderr",
          "text": [
            "No model was supplied, defaulted to distilbert/distilbert-base-uncased-finetuned-sst-2-english and revision af0f99b (https://huggingface.co/distilbert/distilbert-base-uncased-finetuned-sst-2-english).\n",
            "Using a pipeline without specifying a model name and revision in production is not recommended.\n",
            "/usr/local/lib/python3.10/dist-packages/transformers/tokenization_utils_base.py:1601: FutureWarning: `clean_up_tokenization_spaces` was not set. It will be set to `True` by default. This behavior will be depracted in transformers v4.45, and will be then set to `False` by default. For more details check this issue: https://github.com/huggingface/transformers/issues/31884\n",
            "  warnings.warn(\n"
          ]
        },
        {
          "output_type": "stream",
          "name": "stdout",
          "text": [
            "POSITIVE sentiment is more prevalent.\n"
          ]
        }
      ],
      "source": [
        "import pandas as pd\n",
        "from transformers import pipeline\n",
        "\n",
        "# Step 1: Load your CSV file (replace 'your_file.csv' with the actual filename)\n",
        "file_path = '/automobile_comments.csv'  # Path to the CSV file\n",
        "df = pd.read_csv(file_path)\n",
        "\n",
        "# Assuming the CSV has a column named 'Comment' containing the text data\n",
        "comments = df['Comment'].tolist()\n",
        "\n",
        "# Step 2: Load pre-trained sentiment analysis model from Hugging Face\n",
        "sentiment_analyzer = pipeline(\"sentiment-analysis\")\n",
        "\n",
        "# Step 3: Perform sentiment analysis and count positive/negative comments\n",
        "positive_count = 0\n",
        "negative_count = 0\n",
        "\n",
        "for comment in comments:\n",
        "    sentiment = sentiment_analyzer(comment)[0]\n",
        "\n",
        "    # Count positive and negative sentiments\n",
        "    if sentiment['label'] == 'POSITIVE':\n",
        "        positive_count += 1\n",
        "    else:\n",
        "        negative_count += 1\n",
        "\n",
        "# Step 4: Display the final result—whether positive or negative sentiment is more common\n",
        "if positive_count > negative_count:\n",
        "    print(\"POSITIVE sentiment is more prevalent.\")\n",
        "elif negative_count > positive_count:\n",
        "    print(\"NEGATIVE sentiment is more prevalent.\")\n",
        "else:\n",
        "    print(\"The number of POSITIVE and NEGATIVE comments is equal.\")\n"
      ]
    },
    {
      "cell_type": "code",
      "source": [],
      "metadata": {
        "id": "EIHuhe8oPbfx"
      },
      "execution_count": null,
      "outputs": []
    }
  ]
}
