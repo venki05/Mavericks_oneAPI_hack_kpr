{
  "nbformat": 4,
  "nbformat_minor": 0,
  "metadata": {
    "colab": {
      "provenance": [],
      "authorship_tag": "ABX9TyNQkexXIRQ3r75T/kbo7yAy",
      "include_colab_link": true
    },
    "kernelspec": {
      "name": "python3",
      "display_name": "Python 3"
    },
    "language_info": {
      "name": "python"
    }
  },
  "cells": [
    {
      "cell_type": "markdown",
      "metadata": {
        "id": "view-in-github",
        "colab_type": "text"
      },
      "source": [
        "<a href=\"https://colab.research.google.com/github/venki05/Mavericks_oneAPI_hack_kpr/blob/main/invoice%20processing.ipynb\" target=\"_parent\"><img src=\"https://colab.research.google.com/assets/colab-badge.svg\" alt=\"Open In Colab\"/></a>"
      ]
    },
    {
      "cell_type": "code",
      "execution_count": null,
      "metadata": {
        "id": "8Cs2PJP0MHuE"
      },
      "outputs": [],
      "source": [
        "#Pdf to png converter\n",
        "import fitz  # PyMuPDF\n",
        "import os\n",
        "\n",
        "def pdf_to_png(input_folder, output_folder):\n",
        "    # Ensure the output folder exists\n",
        "    if not os.path.exists(output_folder):\n",
        "        os.makedirs(output_folder)\n",
        "\n",
        "    # Iterate through all PDF files in the input folder\n",
        "    for filename in os.listdir(input_folder):\n",
        "        if filename.endswith(\".pdf\"):\n",
        "            pdf_path = os.path.join(input_folder, filename)\n",
        "            pdf_document = fitz.open(pdf_path)\n",
        "            pdf_name = os.path.splitext(filename)[0]\n",
        "\n",
        "            # Convert each page in the PDF to PNG\n",
        "            for page_num in range(len(pdf_document)):\n",
        "                page = pdf_document.load_page(page_num)\n",
        "                pix = page.get_pixmap()\n",
        "\n",
        "                # Save each page as a PNG in the output folder, with a unique name\n",
        "                output_path = os.path.join(output_folder, f\"{pdf_name}page{page_num + 1}.png\")\n",
        "                pix.save(output_path)\n",
        "                print(f\"Saved {output_path}\")\n",
        "\n",
        "            pdf_document.close()\n",
        "\n",
        "# Specify the input and output folders\n",
        "input_folder = \"C:\\\\Users\\\\MURALI\\\\OneDrive - SSN-Institute\\\\Documents\\\\Invoices\"\n",
        "output_folder = \"C:\\\\Users\\\\MURALI\\\\OneDrive - SSN-Institute\\\\Documents\\\\Output PNGs\"\n",
        "\n",
        "# Run the conversion function\n",
        "pdf_to_png(input_folder, output_folder)"
      ]
    },
    {
      "cell_type": "code",
      "source": [
        "# Main rogram\n",
        "from PIL import Image\n",
        "import pytesseract\n",
        "import re\n",
        "import pandas as pd\n",
        "import os\n",
        "\n",
        "# Path to the Tesseract executable (set the correct path on your system)\n",
        "# Uncomment the line below if you haven't set tesseract in your system path.\n",
        "# pytesseract.pytesseract.tesseract_cmd = r'C:\\Program Files\\Tesseract-OCR\\tesseract.exe'\n",
        "\n",
        "def extract_invoice_details(image_path):\n",
        "    # Load the image\n",
        "    img = Image.open(image_path)\n",
        "\n",
        "    # Extract text from the image using Tesseract OCR\n",
        "    extracted_text = pytesseract.image_to_string(img)\n",
        "\n",
        "    # Initialize a dictionary to store extracted fields\n",
        "    invoice_data = {}\n",
        "\n",
        "    # Define patterns to extract required information\n",
        "    invoice_number_pattern = r\"#\\s*(IN\\d{4}-\\d{2}/\\d+)\"\n",
        "    due_date_pattern = r\"Due Date:?\\s*(\\d{2}-[A-Z]{3}-\\d{4})\"\n",
        "    invoice_date_pattern = r\"Invoice Date:?\\s*(\\d{2}-[A-Z]{3}-\\d{4})\"\n",
        "    total_amount_pattern = r\"Total\\sAmt\\s*([\\d,]+)\"\n",
        "    supplier_pattern = r\"SSN College of Engineering\"\n",
        "\n",
        "    # Extract Invoice Number\n",
        "    invoice_match = re.search(invoice_number_pattern, extracted_text)\n",
        "    invoice_data['Invoice Number'] = invoice_match.group(1) if invoice_match else None\n",
        "\n",
        "    # Extract Due Date\n",
        "    due_date_match = re.search(due_date_pattern, extracted_text)\n",
        "    invoice_data['Due Date'] = due_date_match.group(1) if due_date_match else None\n",
        "\n",
        "    # Extract Invoice Date\n",
        "    invoice_date_match = re.search(invoice_date_pattern, extracted_text)\n",
        "    invoice_data['Invoice Date'] = invoice_date_match.group(1) if invoice_date_match else None\n",
        "\n",
        "    # Extract Total Amount\n",
        "    total_amount_match = re.search(total_amount_pattern, extracted_text)\n",
        "    invoice_data['Total Amount'] = total_amount_match.group(1) if total_amount_match else None\n",
        "\n",
        "    # Extract Supplier Name (which is constant here)\n",
        "    supplier_match = re.search(supplier_pattern, extracted_text)\n",
        "    invoice_data['Supplier'] = \"SSN College of Engineering\" if supplier_match else None\n",
        "\n",
        "    return invoice_data\n",
        "\n",
        "def process_images_to_excel(input_folder, output_excel):\n",
        "    # List to hold all extracted data\n",
        "    all_data = []\n",
        "\n",
        "    # Iterate over each PNG file in the folder\n",
        "    for filename in os.listdir(input_folder):\n",
        "        if filename.endswith(\".png\"):\n",
        "            image_path = os.path.join(input_folder, filename)\n",
        "            invoice_details = extract_invoice_details(image_path)\n",
        "            all_data.append(invoice_details)\n",
        "\n",
        "    # Convert all collected data to a DataFrame\n",
        "    df = pd.DataFrame(all_data)\n",
        "\n",
        "\n",
        "# Save the DataFrame to an Excel file\n",
        "    df.to_excel(output_excel, index=False)\n",
        "    print(f\"All invoice details have been saved to {output_excel}\")\n",
        "\n",
        "# Specify the folder containing PNG files and the output Excel file path\n",
        "input_folder = r\"C:\\Users\\MURALI\\OneDrive - SSN-Institute\\Documents\\Output PNGs\"\n",
        "output_excel = r\"C:\\Users\\MURALI\\OneDrive - SSN-Institute\\Documents\\Project.xlsx\"\n",
        "\n",
        "# Process the images and save to Excel\n",
        "process_images_to_excel(input_folder, output_excel)\n"
      ],
      "metadata": {
        "id": "fznZ4BUkMS6t"
      },
      "execution_count": null,
      "outputs": []
    }
  ]
}
