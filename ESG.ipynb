{
  "nbformat": 4,
  "nbformat_minor": 0,
  "metadata": {
    "colab": {
      "provenance": [],
      "authorship_tag": "ABX9TyNcLppWfqc/BS6xMOsZK1Ki",
      "include_colab_link": true
    },
    "kernelspec": {
      "name": "python3",
      "display_name": "Python 3"
    },
    "language_info": {
      "name": "python"
    }
  },
  "cells": [
    {
      "cell_type": "markdown",
      "metadata": {
        "id": "view-in-github",
        "colab_type": "text"
      },
      "source": [
        "<a href=\"https://colab.research.google.com/github/venki05/Mavericks_oneAPI_hack_kpr/blob/main/ESG.ipynb\" target=\"_parent\"><img src=\"https://colab.research.google.com/assets/colab-badge.svg\" alt=\"Open In Colab\"/></a>"
      ]
    },
    {
      "cell_type": "code",
      "source": [
        "!pip install scikit-learn-intelex\n"
      ],
      "metadata": {
        "colab": {
          "base_uri": "https://localhost:8080/"
        },
        "id": "WUat--PaTS7D",
        "outputId": "75060e43-bad7-4f12-a730-7eddce9b4c87"
      },
      "execution_count": 1,
      "outputs": [
        {
          "output_type": "stream",
          "name": "stdout",
          "text": [
            "Collecting scikit-learn-intelex\n",
            "  Downloading scikit_learn_intelex-2024.7.0-py310-none-manylinux1_x86_64.whl.metadata (12 kB)\n",
            "Collecting daal4py==2024.7.0 (from scikit-learn-intelex)\n",
            "  Downloading daal4py-2024.7.0-py310-none-manylinux1_x86_64.whl.metadata (7.4 kB)\n",
            "Requirement already satisfied: scikit-learn>=0.22 in /usr/local/lib/python3.10/dist-packages (from scikit-learn-intelex) (1.5.2)\n",
            "Collecting daal==2024.7.0 (from daal4py==2024.7.0->scikit-learn-intelex)\n",
            "  Downloading daal-2024.7.0-py2.py3-none-manylinux1_x86_64.whl.metadata (1.1 kB)\n",
            "Requirement already satisfied: numpy>=1.19 in /usr/local/lib/python3.10/dist-packages (from daal4py==2024.7.0->scikit-learn-intelex) (1.26.4)\n",
            "Requirement already satisfied: tbb==2021.* in /usr/local/lib/python3.10/dist-packages (from daal==2024.7.0->daal4py==2024.7.0->scikit-learn-intelex) (2021.13.1)\n",
            "Requirement already satisfied: scipy>=1.6.0 in /usr/local/lib/python3.10/dist-packages (from scikit-learn>=0.22->scikit-learn-intelex) (1.13.1)\n",
            "Requirement already satisfied: joblib>=1.2.0 in /usr/local/lib/python3.10/dist-packages (from scikit-learn>=0.22->scikit-learn-intelex) (1.4.2)\n",
            "Requirement already satisfied: threadpoolctl>=3.1.0 in /usr/local/lib/python3.10/dist-packages (from scikit-learn>=0.22->scikit-learn-intelex) (3.5.0)\n",
            "Downloading scikit_learn_intelex-2024.7.0-py310-none-manylinux1_x86_64.whl (191 kB)\n",
            "\u001b[2K   \u001b[90m━━━━━━━━━━━━━━━━━━━━━━━━━━━━━━━━━━━━━━━━\u001b[0m \u001b[32m191.5/191.5 kB\u001b[0m \u001b[31m3.0 MB/s\u001b[0m eta \u001b[36m0:00:00\u001b[0m\n",
            "\u001b[?25hDownloading daal4py-2024.7.0-py310-none-manylinux1_x86_64.whl (11.3 MB)\n",
            "\u001b[2K   \u001b[90m━━━━━━━━━━━━━━━━━━━━━━━━━━━━━━━━━━━━━━━━\u001b[0m \u001b[32m11.3/11.3 MB\u001b[0m \u001b[31m34.1 MB/s\u001b[0m eta \u001b[36m0:00:00\u001b[0m\n",
            "\u001b[?25hDownloading daal-2024.7.0-py2.py3-none-manylinux1_x86_64.whl (66.6 MB)\n",
            "\u001b[2K   \u001b[90m━━━━━━━━━━━━━━━━━━━━━━━━━━━━━━━━━━━━━━━━\u001b[0m \u001b[32m66.6/66.6 MB\u001b[0m \u001b[31m8.7 MB/s\u001b[0m eta \u001b[36m0:00:00\u001b[0m\n",
            "\u001b[?25hInstalling collected packages: daal, daal4py, scikit-learn-intelex\n",
            "Successfully installed daal-2024.7.0 daal4py-2024.7.0 scikit-learn-intelex-2024.7.0\n"
          ]
        }
      ]
    },
    {
      "cell_type": "code",
      "source": [
        "!pip install joblib"
      ],
      "metadata": {
        "colab": {
          "base_uri": "https://localhost:8080/"
        },
        "id": "1QPrWzRBbnud",
        "outputId": "4571436f-a79e-46e3-cb4b-c9b27cd58b73"
      },
      "execution_count": 7,
      "outputs": [
        {
          "output_type": "stream",
          "name": "stdout",
          "text": [
            "Requirement already satisfied: joblib in /usr/local/lib/python3.10/dist-packages (1.4.2)\n"
          ]
        }
      ]
    },
    {
      "cell_type": "code",
      "source": [
        "from sklearnex import patch_sklearn"
      ],
      "metadata": {
        "id": "YsO7-92-TsDs"
      },
      "execution_count": 3,
      "outputs": []
    },
    {
      "cell_type": "code",
      "source": [
        "import pandas as pd\n",
        "import numpy as np\n",
        "from sklearn.multioutput import MultiOutputRegressor\n",
        "from sklearn.ensemble import RandomForestRegressor\n",
        "from sklearn.model_selection import train_test_split\n",
        "from sklearn.metrics import mean_squared_error\n",
        "import joblib\n",
        "\n",
        "# Sample data\n",
        "data = {\n",
        "    'environmentScore': [5.5, 7.8, 8.2, 8.54, 9.04, 10.64, 11.06, 11.68, 12.42, 13.41,\n",
        "                         14.02, 14.64, 15.14, 15.43, 15.8, 16.3, 16.67, 17.5, 18.0, 19.0],\n",
        "    'socialScore': [12.8, 13.4, 14.78, 15.05, 15.0, 15.7, 15.01, 15.32, 15.82, 15.74,\n",
        "                    15.72, 15.71, 16.57, 16.06, 16.67, 16.32, 16.35, 17.0, 18.0, 19.5],\n",
        "    'governanceScore': [10.5, 12.0, 14.78, 15.14, 15.6, 16.19, 15.43, 15.79, 16.12, 16.19,\n",
        "                        15.95, 16.67, 15.56, 15.05, 15.6, 15.7, 16.54, 17.0, 18.5, 20.0],\n",
        "    'carbon_emissions': [15, 18, 21, 22, 24, 35, 37, 40, 44, 50, 53, 56, 58, 59, 60, 62, 63, 65, 70, 73],\n",
        "    'energy_usage': [50, 60, 70, 73, 76, 79, 81, 84, 87, 90, 93, 96, 99, 101, 104, 107, 110, 115, 120, 125],\n",
        "    'waste_management_efficiency': [0.5, 0.6, 0.7, 0.71, 0.72, 0.73, 0.73, 0.74, 0.77, 0.72, 0.75, 0.8, 0.83, 0.82, 0.79, 0.83, 0.77, 0.85, 0.87, 0.9],\n",
        "    'water_usage': [10, 12, 17, 17, 18, 19, 20, 21, 22, 23, 24, 25, 26, 27, 28, 29, 30, 32, 34, 35],\n",
        "    'pollution_control_efforts': [60, 65, 70, 70, 71, 72, 73, 74, 75, 76, 77, 78, 79, 80, 81, 82, 83, 84, 85, 87],\n",
        "    'employee_health_safety': [60, 70, 80, 82, 81, 85, 83, 82, 86, 88, 82, 90, 91, 88, 94, 83, 93, 95, 97, 99],\n",
        "    'labor_practices': [70, 75, 82, 83, 81, 89, 84, 86, 87, 88, 90, 85, 89, 83, 92, 94, 87, 95, 96, 98],\n",
        "    'diversity_inclusion': [65, 70, 73, 73, 77, 75, 74, 76, 78, 75, 75, 80, 82, 79, 80, 81, 84, 85, 87, 90],\n",
        "    'community_impact': [55, 60, 65, 67, 66, 69, 64, 67, 70, 68, 71, 65, 74, 75, 72, 73, 69, 75, 78, 80],\n",
        "    'product_sustainability': [70, 75, 80, 81, 83, 84, 82, 80, 84, 85, 82, 87, 86, 89, 90, 87, 89, 92, 94, 95],\n",
        "    'board_diversity': [50, 55, 60, 62, 65, 73, 61, 64, 68, 65, 69, 70, 74, 71, 75, 70, 74, 76, 78, 80],\n",
        "    'cybersecurity_privacy': [65, 70, 81, 81, 83, 84, 82, 87, 84, 86, 89, 90, 87, 84, 83, 89, 87, 90, 92, 95],\n",
        "    'research_investment': [80, 85, 91, 93, 95, 92, 94, 96, 90, 96, 94, 98, 99, 101, 105, 103, 102, 106, 108, 110],\n",
        "    'governance_transparency': [65, 70, 75, 76, 75, 77, 79, 80, 83, 85, 79, 87, 74, 73, 75, 76, 79, 81, 84, 85],\n",
        "    'executive_compensation_alignment': [55, 60, 65, 67, 78, 84, 69, 70, 71, 74, 75, 73, 68, 65, 68, 65, 78, 80, 82, 85],\n",
        "    'risk_management': [65, 70, 77, 79, 78, 76, 80, 82, 81, 80, 79, 83, 79, 76, 78, 84, 83, 85, 87, 90]\n",
        "}\n",
        "\n",
        "# Creating DataFrame\n",
        "df = pd.DataFrame(data)\n",
        "\n",
        "# Normalizing values to a scale of 0-100\n",
        "max_values = {\n",
        "    'carbon_emissions': 100,\n",
        "    'energy_usage': 130,\n",
        "    'waste_management_efficiency': 1.0,\n",
        "    'water_usage': 50,\n",
        "    'pollution_control_efforts': 100,\n",
        "    'employee_health_safety': 100,\n",
        "    'labor_practices': 100,\n",
        "    'diversity_inclusion': 100,\n",
        "    'community_impact': 100,\n",
        "    'product_sustainability': 100,\n",
        "    'board_diversity': 100,\n",
        "    'cybersecurity_privacy': 100,\n",
        "    'research_investment': 120,\n",
        "    'governance_transparency': 100,\n",
        "    'executive_compensation_alignment': 100,\n",
        "    'risk_management': 100\n",
        "}\n",
        "\n",
        "for column, max_value in max_values.items():\n",
        "    df[column] = (df[column] / max_value) * 100\n",
        "\n",
        "# Preparing data\n",
        "X = df[['environmentScore', 'socialScore', 'governanceScore']]\n",
        "y = df.drop(columns=['environmentScore', 'socialScore', 'governanceScore'])\n",
        "\n",
        "X_train, X_test, y_train, y_test = train_test_split(X, y, test_size=0.2, random_state=42)\n",
        "\n",
        "# Model Training with RandomForestRegressor\n",
        "model = MultiOutputRegressor(RandomForestRegressor(random_state=42))\n",
        "model.fit(X_train, y_train)\n",
        "\n",
        "# Making predictions on the test set\n",
        "y_pred = model.predict(X_test)\n",
        "y_pred = np.clip(y_pred, 0, 100)  # Ensure predictions are within 0-100 range\n",
        "\n",
        "# New data for prediction\n",
        "new_data = pd.DataFrame({\n",
        "    'environmentScore': [7.4],\n",
        "    'socialScore': [6.2],\n",
        "    'governanceScore': [5.0]\n",
        "})\n",
        "\n",
        "# Making predictions\n",
        "predicted_values = model.predict(new_data)\n",
        "predicted_values = np.clip(predicted_values, 0, 100)\n",
        "\n",
        "# Printing predicted ESG parameters\n",
        "print(\"\\nEstimated ESG Parameters:\")\n",
        "columns = y.columns\n",
        "for i, column in enumerate(columns):\n",
        "    print(f\"{column}: {predicted_values[0][i]:.2f}\")\n",
        "\n",
        "# Risk Values Calculation\n",
        "risk_values = {}\n",
        "for i, column in enumerate(columns):\n",
        "    risk_value = 100 - predicted_values[0][i]  # Lower predicted value indicates higher risk\n",
        "    risk_values[column] = risk_value\n",
        "    print(f\"{column} Risk Value: {risk_value:.2f}\")\n",
        "\n",
        "# Calculating average ESG risk values and printing\n",
        "avg_environmental_risk = np.mean([risk_values[col] for col in y.columns[:5]])  # First 5 are environmental\n",
        "avg_social_risk = np.mean([risk_values[col] for col in y.columns[5:10]])  # Next 5 are social\n",
        "avg_governance_risk = np.mean([risk_values[col] for col in y.columns[10:]])  # Last 6 are governance\n",
        "\n",
        "print(\"\\nOverall ESG Risk Values:\")\n",
        "print(f\"Environmental Risk: {avg_environmental_risk:.2f}\")\n",
        "print(f\"Social Risk: {avg_social_risk:.2f}\")\n",
        "print(f\"Governance Risk: {avg_governance_risk:.2f}\")\n",
        "\n",
        "# Total ESG Risk calculation\n",
        "total_esg_risk = (avg_environmental_risk + avg_social_risk + avg_governance_risk) / 3\n",
        "print(f\"Total ESG Risk: {total_esg_risk:.2f}\")\n",
        "\n",
        "joblib.dump(model,'esg.pkl')"
      ],
      "metadata": {
        "colab": {
          "base_uri": "https://localhost:8080/"
        },
        "id": "zdYKVlUKUJnR",
        "outputId": "803b36f9-3639-4cde-f8b9-71e6baa02f85"
      },
      "execution_count": 8,
      "outputs": [
        {
          "output_type": "stream",
          "name": "stdout",
          "text": [
            "\n",
            "Estimated ESG Parameters:\n",
            "carbon_emissions: 22.43\n",
            "energy_usage: 55.36\n",
            "waste_management_efficiency: 70.59\n",
            "water_usage: 34.68\n",
            "pollution_control_efforts: 70.26\n",
            "employee_health_safety: 80.59\n",
            "labor_practices: 82.23\n",
            "diversity_inclusion: 73.51\n",
            "community_impact: 65.68\n",
            "product_sustainability: 80.69\n",
            "board_diversity: 60.92\n",
            "cybersecurity_privacy: 81.36\n",
            "research_investment: 76.68\n",
            "governance_transparency: 75.27\n",
            "executive_compensation_alignment: 66.53\n",
            "risk_management: 77.10\n",
            "carbon_emissions Risk Value: 77.57\n",
            "energy_usage Risk Value: 44.64\n",
            "waste_management_efficiency Risk Value: 29.41\n",
            "water_usage Risk Value: 65.32\n",
            "pollution_control_efforts Risk Value: 29.74\n",
            "employee_health_safety Risk Value: 19.41\n",
            "labor_practices Risk Value: 17.77\n",
            "diversity_inclusion Risk Value: 26.49\n",
            "community_impact Risk Value: 34.32\n",
            "product_sustainability Risk Value: 19.31\n",
            "board_diversity Risk Value: 39.08\n",
            "cybersecurity_privacy Risk Value: 18.64\n",
            "research_investment Risk Value: 23.32\n",
            "governance_transparency Risk Value: 24.73\n",
            "executive_compensation_alignment Risk Value: 33.47\n",
            "risk_management Risk Value: 22.90\n",
            "\n",
            "Overall ESG Risk Values:\n",
            "Environmental Risk: 49.34\n",
            "Social Risk: 23.46\n",
            "Governance Risk: 27.02\n",
            "Total ESG Risk: 33.27\n"
          ]
        },
        {
          "output_type": "execute_result",
          "data": {
            "text/plain": [
              "['esg.pkl']"
            ]
          },
          "metadata": {},
          "execution_count": 8
        }
      ]
    }
  ]
}